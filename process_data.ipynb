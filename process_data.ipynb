{
 "cells": [
  {
   "cell_type": "code",
   "execution_count": 3,
   "metadata": {},
   "outputs": [],
   "source": [
    "import csv\n",
    "from pathlib import Path\n",
    "\n",
    "from openpyxl import load_workbook"
   ]
  },
  {
   "cell_type": "markdown",
   "metadata": {},
   "source": [
    "### Read the xlsx file"
   ]
  },
  {
   "cell_type": "code",
   "execution_count": 4,
   "metadata": {},
   "outputs": [],
   "source": [
    "# file_dir = Path(\"Saudi Real Estate/Labor Market/Raw - from site\")\n",
    "\n",
    "# file_names = [\n",
    "#     \"Labor Market - 2018 Q1.xlsx\"\n",
    "# ]\n",
    "\n",
    "# file_paths = []\n",
    "\n",
    "# for file_name in file_names:\n",
    "#     file_paths.append(file_dir / file_name)"
   ]
  },
  {
   "cell_type": "code",
   "execution_count": 5,
   "metadata": {},
   "outputs": [],
   "source": [
    "file_dir = Path(\"Saudi Real Estate/Labor Market/Raw - from site\")\n",
    "YEAR = \"2016\"\n",
    "QUARTER = \"3\"\n",
    "\n",
    "file_name = \"Labor Market - {} Q{}.xlsx\".format(YEAR, QUARTER)\n",
    "file_path = file_dir / file_name\n",
    "\n",
    "wb = load_workbook(file_path)"
   ]
  },
  {
   "cell_type": "code",
   "execution_count": 10,
   "metadata": {},
   "outputs": [
    {
     "data": {
      "text/plain": [
       "<Worksheet \"16-1 \">"
      ]
     },
     "execution_count": 10,
     "metadata": {},
     "output_type": "execute_result"
    }
   ],
   "source": [
    "wb.active"
   ]
  },
  {
   "cell_type": "markdown",
   "metadata": {},
   "source": [
    "### Output general employment data"
   ]
  },
  {
   "cell_type": "code",
   "execution_count": 11,
   "metadata": {},
   "outputs": [],
   "source": [
    "ws = wb[\"16-1 \"]\n",
    "\n",
    "headers = [\n",
    "    \"Year\",\n",
    "    \"Quarter\",\n",
    "    \n",
    "    \"Employed Males\",\n",
    "    \"Employed Females\",\n",
    "    \n",
    "    \"Saudi Employed Males\",\n",
    "    \"Saudi Employed Females\",\n",
    "    \n",
    "    \"Non-Saudi Employed Males\",\n",
    "    \"Non-Saudi Employed Females\",\n",
    "    \n",
    "    \"Saudi Job Seekers Males\",\n",
    "    \"Saudi Job Seekers Females\",\n",
    "    \n",
    "    \"Unemployed Males\",\n",
    "    \"Unemployed Females\",\n",
    "    \n",
    "    \"Saudi Unemployed Males\",\n",
    "    \"Saudi Unemployed Females\",\n",
    "    \n",
    "#     \"Non-Saudi Unemployed Males\",\n",
    "#     \"Non-Saudi Unemployed Females\",\n",
    "    \n",
    "#     \"Average Monthly Wages\",\n",
    "#     \"Average Monthly Wages Males\",\n",
    "#     \"Average Monthly Wages Females\",\n",
    "    \n",
    "#     \"Saudi Average Monthly Wages\",\n",
    "#     \"Saudi Average Monthly Wages Males\",\n",
    "#     \"Saudi Average Monthly Wages Females\"\n",
    "]\n",
    "\n",
    "header_to_cell = {\n",
    "    \n",
    "    \"Employed Males\"                : \"B9\",\n",
    "    \"Employed Females\"              : \"C9\",\n",
    "    \n",
    "    \"Saudi Employed Males\"          : \"B10\",\n",
    "    \"Saudi Employed Females\"        : \"C10\",\n",
    "    \n",
    "    \"Non-Saudi Employed Males\"      : \"B11\",\n",
    "    \"Non-Saudi Employed Females\"    : \"C11\",\n",
    "    \n",
    "    \"Saudi Job Seekers Males\"       : \"B12\",\n",
    "    \"Saudi Job Seekers Females\"     : \"C12\",\n",
    "    \n",
    "#     \"Unemployed Males\"              : \"E17\",\n",
    "#     \"Unemployed Females\"            : \"F17\",\n",
    "    \n",
    "#     \"Saudi Unemployed Males\"        : \"E18\",\n",
    "#     \"Saudi Unemployed Females\"      : \"F18\",\n",
    "    \n",
    "#     \"Non-Saudi Unemployed Males\"    : \"E19\",\n",
    "#     \"Non-Saudi Unemployed Females\"  : \"F19\",\n",
    "    \n",
    "#     \"Average Monthly Wages\"                 : \"G31\",\n",
    "#     \"Average Monthly Wages Males\"           : \"E31\",\n",
    "#     \"Average Monthly Wages Females\"         : \"F31\",\n",
    "    \n",
    "#     \"Saudi Average Monthly Wages\"           : \"G32\",\n",
    "#     \"Saudi Average Monthly Wages Males\"     : \"E32\",\n",
    "#     \"Saudi Average Monthly Wages Females\"   : \"F32\"\n",
    "    \n",
    "    \"Unemployed Males\"              : \"B17\",\n",
    "    \"Unemployed Females\"            : \"C17\",\n",
    "    \n",
    "    \"Saudi Unemployed Males\"        : \"B18\",\n",
    "    \"Saudi Unemployed Females\"      : \"C18\",\n",
    "    \n",
    "#     \"Non-Saudi Unemployed Males\"    : \"E15\",\n",
    "#     \"Non-Saudi Unemployed Females\"  : \"F15\",\n",
    "    \n",
    "#     \"Average Monthly Wages\"                 : \"G27\",\n",
    "#     \"Average Monthly Wages Males\"           : \"E27\",\n",
    "#     \"Average Monthly Wages Females\"         : \"F27\",\n",
    "    \n",
    "#     \"Saudi Average Monthly Wages\"           : \"G28\",\n",
    "#     \"Saudi Average Monthly Wages Males\"     : \"E28\",\n",
    "#     \"Saudi Average Monthly Wages Females\"   : \"F28\"\n",
    "    \n",
    "}\n",
    "\n",
    "header_to_value = {}\n",
    "\n",
    "if set(headers[2:]) != set(header_to_cell.keys()):\n",
    "    raise Exception(\"Headers do not match row info\")\n",
    "\n",
    "    \n",
    "for header, cell in header_to_cell.items():\n",
    "    header_to_value[header] = ws[cell].value\n",
    "\n",
    "header_to_value[\"Year\"]    = YEAR\n",
    "header_to_value[\"Quarter\"] = QUARTER"
   ]
  },
  {
   "cell_type": "code",
   "execution_count": 12,
   "metadata": {},
   "outputs": [],
   "source": [
    "with open('Labor.csv', 'a', newline='') as csvfile:\n",
    "    \n",
    "    csv_writer = csv.DictWriter(csvfile, fieldnames=headers)\n",
    "    \n",
    "#     csv_writer.writeheader()\n",
    "    csv_writer.writerow(header_to_value)"
   ]
  },
  {
   "cell_type": "code",
   "execution_count": null,
   "metadata": {},
   "outputs": [],
   "source": [
    "\n",
    "\n",
    "\n",
    "\n",
    "\n",
    "\n",
    "\n",
    "\n",
    "\n",
    "\n",
    "\n",
    "\n",
    "\n",
    "\n",
    "\n",
    "\n",
    "\n",
    "\n",
    "\n",
    "\n",
    "\n",
    "\n",
    "\n",
    "\n",
    "\n",
    "\n",
    "\n",
    "\n",
    "\n",
    "\n",
    "\n",
    "\n",
    "\n",
    "\n",
    "\n",
    "\n",
    "\n",
    "\n",
    "\n",
    "\n",
    "\n",
    "\n",
    "\n",
    "\n",
    "\n",
    "\n",
    "\n",
    "\n",
    "\n",
    "\n",
    "\n",
    "\n",
    "\n",
    "\n",
    "\n",
    "\n",
    "\n"
   ]
  }
 ],
 "metadata": {
  "kernelspec": {
   "display_name": "Python 3",
   "language": "python",
   "name": "python3"
  },
  "language_info": {
   "codemirror_mode": {
    "name": "ipython",
    "version": 3
   },
   "file_extension": ".py",
   "mimetype": "text/x-python",
   "name": "python",
   "nbconvert_exporter": "python",
   "pygments_lexer": "ipython3",
   "version": "3.6.5"
  }
 },
 "nbformat": 4,
 "nbformat_minor": 2
}
